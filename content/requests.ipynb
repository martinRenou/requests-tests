{
  "cells": [
    {
      "cell_type": "code",
      "execution_count": null,
      "metadata": {
        "trusted": true
      },
      "outputs": [],
      "source": [
        "import sys\n",
        "import types"
      ]
    },
    {
      "cell_type": "code",
      "execution_count": null,
      "metadata": {
        "trusted": true
      },
      "outputs": [],
      "source": [
        "# import pyjs\n",
        "\n",
        "# sys.modules[\"js\"] = pyjs.js"
      ]
    },
    {
      "cell_type": "code",
      "execution_count": null,
      "metadata": {
        "trusted": true
      },
      "outputs": [],
      "source": [
        "# class JsException(Exception):\n",
        "#     pass\n",
        "\n",
        "# ffi = sys.modules[\"pyodide.ffi\"] = types.ModuleType(\"ffi\")\n",
        "# ffi.JsException = JsException\n",
        "# ffi.JsArray = None\n",
        "# ffi.JsProxy = None\n",
        "# ffi.to_js = pyjs.to_js\n",
        "\n",
        "# pyodide = sys.modules[\"pyodide\"] = types.ModuleType(\"pyodide\")\n",
        "# pyodide.ffi = ffi"
      ]
    },
    {
      "cell_type": "code",
      "execution_count": null,
      "metadata": {
        "trusted": true
      },
      "outputs": [],
      "source": [
        "import requests"
      ]
    },
    {
      "cell_type": "code",
      "execution_count": null,
      "metadata": {
        "trusted": true
      },
      "outputs": [],
      "source": [
        "URL = \"https://github.com/\"\n",
        "requests.get(URL).text"
      ]
    }
  ],
  "metadata": {
    "kernelspec": {
      "display_name": "Python 3.11 (XPython)",
      "language": "python",
      "name": "xpython"
    },
    "language_info": {
      "file_extension": ".py",
      "mimetype": "text/x-python",
      "name": "python",
      "version": "3.11.3"
    }
  },
  "nbformat": 4,
  "nbformat_minor": 4
}
