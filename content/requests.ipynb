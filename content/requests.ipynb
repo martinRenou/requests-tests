{
  "metadata": {
    "kernelspec": {
      "name": "xpython",
      "display_name": "Python 3.11 (XPython)",
      "language": "python"
    },
    "language_info": {
      "file_extension": ".py",
      "mimetype": "text/x-python",
      "name": "python",
      "version": "3.11.3"
    }
  },
  "nbformat_minor": 4,
  "nbformat": 4,
  "cells": [
    {
      "cell_type": "code",
      "source": "import sys\nimport types",
      "metadata": {
        "trusted": true
      },
      "outputs": [],
      "execution_count": null
    },
    {
      "cell_type": "code",
      "source": "import pyjs\n\nsys.modules[\"js\"] = pyjs.js",
      "metadata": {
        "trusted": true
      },
      "outputs": [],
      "execution_count": null
    },
    {
      "cell_type": "code",
      "source": "ffi = sys.modules[\"pyodide.ffi\"] = types.ModuleType(\"ffi\")\nffi.JsException = None\nffi.JsArray = None\nffi.JsProxy = None\nffi.to_js = pyjs.to_js\n\npyodide = sys.modules[\"pyodide\"] = types.ModuleType(\"pyodide\")\npyodide.ffi = ffi",
      "metadata": {
        "trusted": true
      },
      "outputs": [],
      "execution_count": null
    },
    {
      "cell_type": "code",
      "source": "import requests",
      "metadata": {
        "trusted": true
      },
      "outputs": [],
      "execution_count": null
    },
    {
      "cell_type": "code",
      "source": "URL = \"https://github.com/\"\nrequests.get(URL).text",
      "metadata": {
        "trusted": true
      },
      "outputs": [],
      "execution_count": null
    }
  ]
}